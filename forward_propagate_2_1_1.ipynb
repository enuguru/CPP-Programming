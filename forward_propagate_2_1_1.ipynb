{
  "nbformat": 4,
  "nbformat_minor": 0,
  "metadata": {
    "colab": {
      "name": "forward_propagate_2_1_1.ipynb",
      "provenance": [],
      "authorship_tag": "ABX9TyOU1PKgXOJk9s46t752WTo1",
      "include_colab_link": true
    },
    "kernelspec": {
      "name": "python3",
      "display_name": "Python 3"
    },
    "language_info": {
      "name": "python"
    }
  },
  "cells": [
    {
      "cell_type": "markdown",
      "metadata": {
        "id": "view-in-github",
        "colab_type": "text"
      },
      "source": [
        "<a href=\"https://colab.research.google.com/github/enuguru/CPP-Programming/blob/master/forward_propagate_2_1_1.ipynb\" target=\"_parent\"><img src=\"https://colab.research.google.com/assets/colab-badge.svg\" alt=\"Open In Colab\"/></a>"
      ]
    },
    {
      "cell_type": "code",
      "metadata": {
        "id": "LSGckp6mL-vQ"
      },
      "source": [
        "# Example of forward propagating input\n",
        "from math import exp"
      ],
      "execution_count": 1,
      "outputs": []
    },
    {
      "cell_type": "code",
      "metadata": {
        "id": "R6pNddtaMHEH"
      },
      "source": [
        "# Calculate neuron activation for an input\n",
        "def activate(weights, inputs):\n",
        "\t#print(inputs)\n",
        "\tactivation = weights[-1]\n",
        "\tfor i in range(len(weights)-1):\n",
        "\t\tactivation += weights[i] * inputs[i]\n",
        "\t\t#print(activation)\n",
        "\treturn activation"
      ],
      "execution_count": 2,
      "outputs": []
    },
    {
      "cell_type": "code",
      "metadata": {
        "id": "2YVyXbgBMRRt"
      },
      "source": [
        "# Transfer neuron activation\n",
        "def transfer(activation):\n",
        "    p= 1.0 / (1.0 + exp(-activation))\n",
        "    #print(p)\n",
        "    return 1.0 / (1.0 + exp(-activation))"
      ],
      "execution_count": 3,
      "outputs": []
    },
    {
      "cell_type": "code",
      "metadata": {
        "id": "wOMKW-RFMPe_"
      },
      "source": [
        "# Forward propagate input to a network output\n",
        "def forward_propagate(network, row):\n",
        "    inputs = row\n",
        "    for layer in network:\n",
        "\n",
        "        new_inputs = []\n",
        "        for neuron in layer:\n",
        "            #print(neuron)\n",
        "            activation = activate(neuron['weights'], inputs)\n",
        "            neuron['output'] = transfer(activation)\n",
        "            new_inputs.append(neuron['output'])\n",
        "        inputs = new_inputs\n",
        "    return inputs"
      ],
      "execution_count": 4,
      "outputs": []
    },
    {
      "cell_type": "code",
      "metadata": {
        "colab": {
          "base_uri": "https://localhost:8080/"
        },
        "id": "_8E5DtQnMUuU",
        "outputId": "a2aee6c5-3b79-4136-a349-1dbf3deec209"
      },
      "source": [
        "# test forward propagation\n",
        "network = [[{'weights': [0.13436424411240122, 0.34564598723719715, 0.763774618976614]}],\n",
        "\t\t[{'weights': [0.2550690257394217, 0.49543508709194095]}]]#, {'weights': [0.4494910647887381, 0.651592972722763]}]]\n",
        "row = [1, 0, None]\n",
        "output = forward_propagate(network, row)\n",
        "print(output)"
      ],
      "execution_count": 5,
      "outputs": [
        {
          "output_type": "stream",
          "name": "stdout",
          "text": [
            "[0.6629970129852887]\n"
          ]
        }
      ]
    }
  ]
}